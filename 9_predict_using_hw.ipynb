{
 "cells": [
  {
   "cell_type": "code",
   "execution_count": 34,
   "id": "c52f3951",
   "metadata": {},
   "outputs": [],
   "source": [
    "from dotenv import load_dotenv\n",
    "load_dotenv() \n",
    "\n",
    "import sys\n",
    "import os\n",
    "\n",
    "# Add the parent directory to the Python path\n",
    "sys.path.append(os.path.abspath(os.path.join(os.getcwd(), \"..\")))\n",
    "import src.config as config"
   ]
  },
  {
   "cell_type": "code",
   "execution_count": 35,
   "id": "9183b195",
   "metadata": {},
   "outputs": [],
   "source": [
    "from src.inference import get_feature_store"
   ]
  },
  {
   "cell_type": "code",
   "execution_count": 36,
   "id": "fb01e10f",
   "metadata": {},
   "outputs": [
    {
     "name": "stdout",
     "output_type": "stream",
     "text": [
      "2025-05-10 11:27:52,245 INFO: Closing external client and cleaning up certificates.\n",
      "Connection closed.\n",
      "2025-05-10 11:27:52,334 INFO: Initializing external client\n",
      "2025-05-10 11:27:52,335 INFO: Base URL: https://c.app.hopsworks.ai:443\n",
      "2025-05-10 11:27:52,939 INFO: Python Engine initialized.\n",
      "\n",
      "Logged in to project, explore it here https://c.app.hopsworks.ai:443/p/1228969\n"
     ]
    }
   ],
   "source": [
    "feature_store = get_feature_store()"
   ]
  },
  {
   "cell_type": "code",
   "execution_count": 37,
   "id": "7468225d",
   "metadata": {},
   "outputs": [
    {
     "name": "stdout",
     "output_type": "stream",
     "text": [
      "2025-05-10 11:27:54,047 INFO: Closing external client and cleaning up certificates.\n",
      "Connection closed.\n",
      "2025-05-10 11:27:54,054 INFO: Initializing external client\n",
      "2025-05-10 11:27:54,055 INFO: Base URL: https://c.app.hopsworks.ai:443\n",
      "2025-05-10 11:27:54,572 INFO: Python Engine initialized.\n",
      "\n",
      "Logged in to project, explore it here https://c.app.hopsworks.ai:443/p/1228969\n",
      "Fetching data from 2025-04-11 11:27:54.045222 to 2025-05-10 10:27:54.045222\n",
      "Finished: Reading data from Hopsworks, using Hopsworks Feature Query Service (0.70s) \n"
     ]
    }
   ],
   "source": [
    "from datetime import datetime, timedelta\n",
    "import pandas as pd  \n",
    "\n",
    "\n",
    "current_date = pd.Timestamp.now()\n",
    "feature_store = get_feature_store()\n",
    "\n",
    "# read time-series data from the feature store\n",
    "fetch_data_to = current_date - timedelta(hours=1)\n",
    "fetch_data_from = current_date - timedelta(days=1*29)\n",
    "print(f\"Fetching data from {fetch_data_from} to {fetch_data_to}\")\n",
    "feature_view = feature_store.get_feature_view(\n",
    "    name=config.FEATURE_VIEW_NAME, version=config.FEATURE_VIEW_VERSION\n",
    ")\n",
    "\n",
    "ts_data = feature_view.get_batch_data(\n",
    "    start_time=(fetch_data_from - timedelta(days=1)),\n",
    "    end_time=(fetch_data_to + timedelta(days=1)),\n",
    ")\n",
    "# Ensure fetch_data_from and fetch_data_to are timezone-aware to match ts_data.pickup_hour\n",
    "fetch_data_from = fetch_data_from.tz_localize(None)\n",
    "fetch_data_to = fetch_data_to.tz_localize(None)\n",
    "ts_data.pickup_hour = ts_data.pickup_hour.dt.tz_localize(None)\n",
    "ts_data = ts_data[ts_data.pickup_hour.between(fetch_data_from, fetch_data_to)]"
   ]
  },
  {
   "cell_type": "code",
   "execution_count": null,
   "id": "4813ce94",
   "metadata": {},
   "outputs": [],
   "source": [
    "ts_data.sort_values([\"station_id\", \"pickup_hour\"]).reset_index(drop=True)"
   ]
  },
  {
   "cell_type": "code",
   "execution_count": null,
   "id": "e263f4cc",
   "metadata": {},
   "outputs": [],
   "source": [
    "ts_data"
   ]
  },
  {
   "cell_type": "code",
   "execution_count": null,
   "id": "1ef0da47",
   "metadata": {},
   "outputs": [],
   "source": [
    "from src.data_utils import transform_ts_data_info_features_and_target\n",
    "\n",
    "features , _ = transform_ts_data_info_features_and_target(ts_data, window_size=28, step_size=23)"
   ]
  },
  {
   "cell_type": "code",
   "execution_count": null,
   "id": "0a5e456e",
   "metadata": {},
   "outputs": [],
   "source": []
  }
 ],
 "metadata": {
  "kernelspec": {
   "display_name": "citib",
   "language": "python",
   "name": "python3"
  },
  "language_info": {
   "codemirror_mode": {
    "name": "ipython",
    "version": 3
   },
   "file_extension": ".py",
   "mimetype": "text/x-python",
   "name": "python",
   "nbconvert_exporter": "python",
   "pygments_lexer": "ipython3",
   "version": "3.11.11"
  }
 },
 "nbformat": 4,
 "nbformat_minor": 5
}
